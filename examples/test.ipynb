{
 "cells": [
  {
   "cell_type": "code",
   "execution_count": 157,
   "metadata": {
    "pycharm": {
     "is_executing": false
    }
   },
   "outputs": [],
   "source": [
    "import os\n",
    "os.environ[\"CUDA_VISIBLE_DEVICES\"] = \"-1\"\n",
    "import tensorflow as tf\n",
    "import numpy as np\n",
    "from tifffile import TiffWriter, TiffFile"
   ]
  },
  {
   "cell_type": "code",
   "execution_count": 2,
   "metadata": {
    "pycharm": {
     "is_executing": false,
     "name": "#%%\n"
    }
   },
   "outputs": [],
   "source": [
    "a=tf.constant(np.random.rand(4,4), dtype=np.complex128)\n",
    "b=tf.constant(np.random.rand(4,4), dtype=np.complex128)"
   ]
  },
  {
   "cell_type": "code",
   "execution_count": 15,
   "metadata": {},
   "outputs": [],
   "source": [
    "phase_factor = 0.124223\n",
    "def q(u,n):\n",
    "    u*=tf.exp(phase_factor*1j*tf.complex(n,tf.zeros_like(n)))\n",
    "    return u"
   ]
  },
  {
   "cell_type": "code",
   "execution_count": 36,
   "metadata": {
    "pycharm": {
     "is_executing": false,
     "name": "#%%\n"
    }
   },
   "outputs": [
    {
     "data": {
      "text/plain": [
       "[<tf.Tensor: shape=(2,), dtype=complex128, numpy=array([2.014684  +0.97007648j, 2.99422259-0.53350826j])>,\n",
       " <tf.Tensor: shape=(2,), dtype=float64, numpy=array([ 0.06340748, -0.37805853])>]"
      ]
     },
     "execution_count": 36,
     "metadata": {},
     "output_type": "execute_result"
    }
   ],
   "source": [
    "u=tf.constant(np.array([1.2323 + 0.34j, 0.934 + 0.85j], np.complex128))\n",
    "n=tf.constant(np.array([0.12, 0.09], np.double))\n",
    "ug = tf.constant(np.array([2 + 1j, 3 - 0.5j], np.complex128))\n",
    "with tf.GradientTape() as g:\n",
    "    g.watch(u)\n",
    "    g.watch(n)\n",
    "    unew=q(u,n)\n",
    "    l=tf.tensordot(unew,tf.math.conj(ug),1)\n",
    "g.gradient(l,[u,n])"
   ]
  },
  {
   "cell_type": "code",
   "execution_count": 16,
   "metadata": {
    "pycharm": {
     "name": "#%%\n"
    }
   },
   "outputs": [
    {
     "data": {
      "text/plain": [
       "<tf.Tensor: shape=(2,), dtype=complex128, numpy=array([1.22709498+0.35833114j, 0.92443877+0.86038885j])>"
      ]
     },
     "execution_count": 16,
     "metadata": {},
     "output_type": "execute_result"
    }
   ],
   "source": [
    "q(u,n)"
   ]
  },
  {
   "cell_type": "code",
   "execution_count": 54,
   "metadata": {},
   "outputs": [
    {
     "data": {
      "text/plain": [
       "array([[0.94652344, 0.75778901, 0.36268692, 0.17039358],\n",
       "       [0.6218963 , 0.77670778, 0.81780564, 0.67399338],\n",
       "       [0.41853109, 0.2668255 , 0.29332194, 0.00581977],\n",
       "       [0.65006947, 0.21395241, 0.8160816 , 0.928916  ]])"
      ]
     },
     "execution_count": 54,
     "metadata": {},
     "output_type": "execute_result"
    }
   ],
   "source": [
    "np.random.random((4,4))"
   ]
  },
  {
   "cell_type": "code",
   "execution_count": 137,
   "metadata": {},
   "outputs": [],
   "source": [
    "u=np.array([[0.09562465, 0.00480245, 0.15706965, 0.86148982],\n",
    "       [0.06099826, 0.19465191, 0.99168264, 0.06427324],\n",
    "       [0.13013975, 0.16247964, 0.21700103, 0.3390049 ],\n",
    "       [0.69911775, 0.00399147, 0.8371409 , 0.81915701]])+np.array([[0.36790823, 0.96613423, 0.57488218, 0.78752347],\n",
    "       [0.30869711, 0.16676483, 0.99859666, 0.54262361],\n",
    "       [0.10260755, 0.93277456, 0.50749209, 0.48005492],\n",
    "       [0.67407622, 0.33936744, 0.23437531, 0.83429173]])*1j\n",
    "u=u*0.1+0.95\n",
    "n=np.array([[0.94652344, 0.75778901, 0.36268692, 0.17039358],\n",
    "       [0.6218963 , 0.77670778, 0.81780564, 0.67399338],\n",
    "       [0.41853109, 0.2668255 , 0.29332194, 0.00581977],\n",
    "       [0.65006947, 0.21395241, 0.8160816 , 0.928916  ]])*0.1\n",
    "# u=np.ones_like(u)\n",
    "u, n=[tf.constant(i, dtype=tf.complex128) for i in (u,n)]"
   ]
  },
  {
   "cell_type": "code",
   "execution_count": 186,
   "metadata": {
    "scrolled": true
   },
   "outputs": [
    {
     "name": "stdout",
     "output_type": "stream",
     "text": [
      "tf.Tensor(13.503490752549002, shape=(), dtype=float64)\n"
     ]
    }
   ],
   "source": [
    "u=tf.ones((128, 128), dtype=tf.complex128)\n",
    "with tf.GradientTape() as g:\n",
    "    g.watch(n)\n",
    "    # nc=tf.complex(n,tf.zeros_like(n))\n",
    "    for ni in n:\n",
    "        u=bpm_step(u,1,ni)\n",
    "    l=tf.reduce_sum(tf.square(tf.abs(u)-mea))\n",
    "print(l)\n",
    "ng=g.gradient(l, n)\n",
    "# unew=bpm_step(u,2,n-0.01*tf.cast(tf.math.real(ng),tf.complex128))\n",
    "# l=tf.reduce_sum(tf.square(tf.abs(unew-0.3)))\n",
    "# print(l)"
   ]
  },
  {
   "cell_type": "code",
   "execution_count": 191,
   "metadata": {},
   "outputs": [],
   "source": [
    "ng_cuda=np.load(r\"D:\\Users\\zjb\\Documents\\School Tasks\\data\\ssnp\\ng.npy\")"
   ]
  },
  {
   "cell_type": "code",
   "execution_count": 197,
   "metadata": {},
   "outputs": [
    {
     "data": {
      "text/plain": [
       "4.999428124252148e-09"
      ]
     },
     "execution_count": 197,
     "metadata": {},
     "output_type": "execute_result"
    }
   ],
   "source": [
    "np.sum(np.abs(np.real(ng.numpy())-ng_cuda))"
   ]
  },
  {
   "cell_type": "code",
   "execution_count": 183,
   "metadata": {},
   "outputs": [],
   "source": [
    "mea = tiff_import(r\"D:\\Users\\zjb\\Documents\\School Tasks\\data\\ssnp\\bpmtest.tiff\", dtype=tf.float64)*2\n",
    "n = tiff_import(r\"D:\\Users\\zjb\\Documents\\School Tasks\\data\\ssnp\\ball.tiff\")*0.0"
   ]
  },
  {
   "cell_type": "code",
   "execution_count": 168,
   "metadata": {},
   "outputs": [],
   "source": [
    "DATA_TYPE=tf.complex128\n",
    "SIZE=[128,128]\n",
    "RES=[0.1, 0.1, 0.1]\n",
    "EPS=1E-8\n",
    "N0=1\n",
    "def tiff_import(path: str, dtype=DATA_TYPE):\n",
    "    with TiffFile(path) as file:\n",
    "        img = np.squeeze(np.stack([page.asarray() for page in file.pages]))\n",
    "    if img.dtype.type == np.uint16:\n",
    "        img = img.astype(np.double) / 65535\n",
    "    elif img.dtype.type == np.uint8:\n",
    "        warn(\"Importing uint8 image, please use uint16 if possible\")\n",
    "        img = img.astype(np.double) / 255\n",
    "    return tf.constant(img, dtype)\n",
    "\n",
    "@tf.function\n",
    "def bpm_step(u, dz, n=None):\n",
    "    \"\"\"\n",
    "    BPM main operation of one step\n",
    "\n",
    "    :param u: x-y complex amplitude\n",
    "    :param dz: step size along z axis\n",
    "    :param n: refractive index along x-y distribution in this slice. Use background N0 if not provided.\n",
    "    :return: new (u, u_d) after a step towards +z direction\n",
    "    \"\"\"\n",
    "    for t_in in (u, n):\n",
    "        if t_in is not None:\n",
    "            if t_in.shape != SIZE[:2]:\n",
    "                raise ValueError(f\"the x,y shape {t_in.shape} is not {SIZE[:2]}\")\n",
    "\n",
    "    a = tf.signal.fft2d(u)\n",
    "    evan_rm = tf.constant(_evanescent_absorb(), DATA_TYPE)\n",
    "    a *= evan_rm\n",
    "    u = tf.signal.ifft2d(tf.exp(_kz() * (1j * dz)) * a)\n",
    "    if n is not None:\n",
    "        u *= tf.exp(n * (1j * (2 * np.pi * RES[2] * N0) * dz))\n",
    "    return u\n",
    "def _c_gamma():\n",
    "    \"\"\"\n",
    "    Calculate cos(gamma) as a constant array at frequency domain. Gamma is the angle\n",
    "    between the wave vector and z-axis. Note: N.A.=sin(gamma)\n",
    "\n",
    "    The array is pre-shifted for later FFT operation.\n",
    "\n",
    "    :return: cos(gamma) numpy array\n",
    "    \"\"\"\n",
    "    c_alpha, c_beta = [\n",
    "        np.fft.ifftshift(np.arange(-SIZE[i] / 2, SIZE[i] / 2).astype(np.double)) / SIZE[i] / RES[i]\n",
    "        for i in (0, 1)\n",
    "    ]\n",
    "    c_gamma = np.sqrt(np.maximum(1 - (np.square(c_alpha) + np.square(c_beta[:, None])), EPS))\n",
    "    return c_gamma\n",
    "\n",
    "def _kz():\n",
    "    kz = tf.constant(_c_gamma() * (2 * np.pi * RES[2] * N0), DATA_TYPE)\n",
    "    return kz\n",
    "\n",
    "def _evanescent_absorb() -> np.ndarray:\n",
    "    \"\"\"\n",
    "        For 0.98<N.A.<1, decrease to 1~1/e per step\n",
    "\n",
    "        For N.A.>1 decrease to 1/e per step\n",
    "\n",
    "        :return: a 2D angular spectrum transmittance numpy array\n",
    "    \"\"\"\n",
    "    return np.exp(np.minimum((_c_gamma() - 0.2) * 5, 0))"
   ]
  },
  {
   "cell_type": "code",
   "execution_count": null,
   "metadata": {},
   "outputs": [],
   "source": []
  }
 ],
 "metadata": {
  "kernelspec": {
   "display_name": "Python 3",
   "language": "python",
   "name": "python3"
  },
  "language_info": {
   "codemirror_mode": {
    "name": "ipython",
    "version": 3
   },
   "file_extension": ".py",
   "mimetype": "text/x-python",
   "name": "python",
   "nbconvert_exporter": "python",
   "pygments_lexer": "ipython3",
   "version": "3.8.3"
  },
  "pycharm": {
   "stem_cell": {
    "cell_type": "raw",
    "metadata": {
     "collapsed": false
    },
    "source": []
   }
  }
 },
 "nbformat": 4,
 "nbformat_minor": 1
}
