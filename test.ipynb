{
 "cells": [
  {
   "cell_type": "code",
   "execution_count": 5,
   "metadata": {
    "collapsed": true,
    "pycharm": {
     "is_executing": false
    }
   },
   "outputs": [],
   "source": [
    "import os\n",
    "os.environ['PATH'] = 'C:\\\\Users\\\\zjb\\\\AppData\\\\Roaming\\\\Mathematica\\\\Paclets\\\\Repository\\\\CUDAResources-Win64-12.0.359\\\\CUDAToolkit\\\\bin;C:\\\\\\\\ProgramData\\\\\\\\Miniconda3\\\\\\\\envs\\\\\\\\num_calc\\\\\\\\lib\\\\\\\\site-packages\\\\\\\\pywin32_system32;C:\\\\\\\\ProgramData\\\\\\\\Miniconda3\\\\\\\\envs\\\\\\\\num_calc;C:\\\\\\\\ProgramData\\\\\\\\Miniconda3\\\\\\\\envs\\\\\\\\num_calc\\\\\\\\Library\\\\\\\\mingw-w64\\\\\\\\bin;C:\\\\\\\\ProgramData\\\\\\\\Miniconda3\\\\\\\\envs\\\\\\\\num_calc\\\\\\\\Library\\\\\\\\usr\\\\\\\\bin;C:\\\\\\\\ProgramData\\\\\\\\Miniconda3\\\\\\\\envs\\\\\\\\num_calc\\\\\\\\Library\\\\\\\\bin;C:\\\\\\\\ProgramData\\\\\\\\Miniconda3\\\\\\\\envs\\\\\\\\num_calc\\\\\\\\Scripts;C:\\\\\\\\ProgramData\\\\\\\\Miniconda3\\\\\\\\envs\\\\\\\\num_calc\\\\\\\\bin;C:\\\\\\\\ProgramData\\\\\\\\Miniconda3\\\\\\\\condabin;C:\\\\\\\\Program Files (x86)\\\\\\\\Windows Resource Kits\\\\\\\\Tools;C:\\\\\\\\Program Files\\\\\\\\NVIDIA GPU Computing Toolkit\\\\\\\\CUDA\\\\\\\\v10.0\\\\\\\\bin;C:\\\\\\\\Program Files\\\\\\\\NVIDIA GPU Computing Toolkit\\\\\\\\CUDA\\\\\\\\v10.0\\\\\\\\libnvvp;C:\\\\\\\\Program Files (x86)\\\\\\\\Common Files\\\\\\\\Oracle\\\\\\\\Java\\\\\\\\javapath;C:\\\\\\\\WINDOWS\\\\\\\\system32;C:\\\\\\\\WINDOWS;C:\\\\\\\\WINDOWS\\\\\\\\System32\\\\\\\\Wbem;C:\\\\\\\\WINDOWS\\\\\\\\System32\\\\\\\\WindowsPowerShell\\\\\\\\v1.0;C:\\\\\\\\WINDOWS\\\\\\\\System32\\\\\\\\OpenSSH;C:\\\\\\\\Program Files (x86)\\\\\\\\Wolfram Research\\\\\\\\WolframScript;C:\\\\\\\\Program Files\\\\\\\\MATLAB\\\\\\\\R2019a\\\\\\\\bin;C:\\\\\\\\Program Files\\\\\\\\MiKTeX 2.9\\\\\\\\miktex\\\\\\\\bin\\\\\\\\x64;C:\\\\\\\\Program Files (x86)\\\\\\\\NVIDIA Corporation\\\\\\\\PhysX\\\\\\\\Common;C:\\\\\\\\Program Files\\\\\\\\NVIDIA Corporation\\\\\\\\NVIDIA NvDLISR;C:\\\\\\\\WINDOWS\\\\\\\\system32;C:\\\\\\\\WINDOWS;C:\\\\\\\\WINDOWS\\\\\\\\System32\\\\\\\\Wbem;C:\\\\\\\\WINDOWS\\\\\\\\System32\\\\\\\\WindowsPowerShell\\\\\\\\v1.0;C:\\\\\\\\WINDOWS\\\\\\\\System32\\\\\\\\OpenSSH;C:\\\\\\\\Program Files (x86)\\\\\\\\IVI Foundation\\\\\\\\VISA\\\\\\\\WinNT\\\\\\\\Bin;C:\\\\\\\\Program Files\\\\\\\\IVI Foundation\\\\\\\\VISA\\\\\\\\Win64\\\\\\\\Bin;C:\\\\\\\\Program Files (x86)\\\\\\\\National Instruments\\\\\\\\Shared\\\\\\\\LabVIEW CLI;C:\\\\\\\\Program Files (x86)\\\\\\\\IVI Foundation\\\\\\\\VISA\\\\\\\\WinNT\\\\\\\\Bin;C:\\\\\\\\Users\\\\\\\\zjb\\\\\\\\AppData\\\\\\\\Local\\\\\\\\Microsoft\\\\\\\\WindowsApps;.;C:\\\\\\\\ProgramData\\\\\\\\Miniconda3\\\\\\\\envs\\\\\\\\num_calc\\\\\\\\lib\\\\\\\\site-packages\\\\\\\\numpy\\\\\\\\.libs;C:\\\\\\\\ProgramData\\\\\\\\Miniconda3\\\\\\\\envs\\\\\\\\num_calc\\\\\\\\lib\\\\\\\\site-packages\\\\\\\\scipy\\\\\\\\.libs'\n",
    "import tensorflow as tf\n",
    "import numpy as np\n"
   ]
  },
  {
   "cell_type": "code",
   "execution_count": 8,
   "outputs": [
    {
     "data": {
      "text/plain": "<tf.Tensor: shape=(2, 4, 4), dtype=complex64, numpy=\narray([[[ 8.9180584e+00+0.j        ,  6.3295984e-01-0.64011836j,\n         -1.5721669e+00+0.j        ,  6.3295984e-01+0.64011836j],\n        [-5.8287382e-03-2.4225757j ,  5.1451039e-01+0.38274068j,\n         -1.4069028e+00-0.6036892j , -8.1877208e-01-0.8694355j ],\n        [ 5.8172488e-01+0.j        ,  3.0862606e-01-0.48925805j,\n         -4.8618484e-01+0.j        ,  3.0862606e-01+0.48925805j],\n        [-5.8287382e-03+2.4225757j , -8.1877208e-01+0.8694355j ,\n         -1.4069028e+00+0.6036892j ,  5.1451039e-01-0.38274068j]],\n\n       [[ 8.4439135e+00+0.j        ,  1.0405755e+00+0.11181211j,\n         -1.6149521e-02+0.j        ,  1.0405755e+00-0.11181211j],\n        [ 7.7760065e-01+0.22788385j,  1.4577216e+00+1.9335909j ,\n          7.4874556e-01+0.85445j   , -2.3722541e-01-0.8524935j ],\n        [-2.9280770e-01+0.j        ,  1.3225973e-01-0.9097581j ,\n         -3.9638054e-01+0.j        ,  1.3225973e-01+0.9097581j ],\n        [ 7.7760065e-01-0.22788385j, -2.3722541e-01+0.8524935j ,\n          7.4874556e-01-0.85445j   ,  1.4577216e+00-1.9335909j ]]],\n      dtype=complex64)>"
     },
     "metadata": {},
     "output_type": "execute_result",
     "execution_count": 8
    }
   ],
   "source": [
    "a=tf.constant(np.random.rand(4,4), dtype=np.complex128)\n",
    "b=tf.constant(np.random.rand(4,4), dtype=np.complex128)\n",
    "\n"
   ],
   "metadata": {
    "collapsed": false,
    "pycharm": {
     "name": "#%%\n",
     "is_executing": false
    }
   }
  },
  {
   "cell_type": "code",
   "execution_count": 17,
   "outputs": [
    {
     "name": "stdout",
     "text": [
      "tf.Tensor(\n[[ 8.91805779e+00+0.j          6.32959972e-01-0.64011845j\n  -1.57216673e+00+0.j          6.32959972e-01+0.64011845j]\n [-5.82879101e-03-2.42257572j  5.14510442e-01+0.38274069j\n  -1.40690278e+00-0.6036892j  -8.18772119e-01-0.86943551j]\n [ 5.81725005e-01+0.j          3.08625983e-01-0.48925797j\n  -4.86184809e-01+0.j          3.08625983e-01+0.48925797j]\n [-5.82879101e-03+2.42257572j -8.18772119e-01+0.86943551j\n  -1.40690278e+00+0.6036892j   5.14510442e-01-0.38274069j]], shape=(4, 4), dtype=complex128)\n"
     ],
     "output_type": "stream"
    }
   ],
   "source": [
    "m = tf.signal.fft2d(a)\n",
    "print(m)"
   ],
   "metadata": {
    "collapsed": false,
    "pycharm": {
     "name": "#%%\n",
     "is_executing": false
    }
   }
  },
  {
   "cell_type": "code",
   "execution_count": null,
   "outputs": [],
   "source": [
    "\n"
   ],
   "metadata": {
    "collapsed": false,
    "pycharm": {
     "name": "#%%\n"
    }
   }
  }
 ],
 "metadata": {
  "kernelspec": {
   "display_name": "Python 3",
   "language": "python",
   "name": "python3"
  },
  "language_info": {
   "codemirror_mode": {
    "name": "ipython",
    "version": 2
   },
   "file_extension": ".py",
   "mimetype": "text/x-python",
   "name": "python",
   "nbconvert_exporter": "python",
   "pygments_lexer": "ipython2",
   "version": "2.7.6"
  },
  "pycharm": {
   "stem_cell": {
    "cell_type": "raw",
    "source": [],
    "metadata": {
     "collapsed": false
    }
   }
  }
 },
 "nbformat": 4,
 "nbformat_minor": 0
}